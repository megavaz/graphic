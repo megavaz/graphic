{
 "cells": [
  {
   "cell_type": "code",
   "execution_count": 1,
   "metadata": {},
   "outputs": [],
   "source": [
    "import numpy as np\n",
    "from skimage.io import imread, imsave, imshow\n",
    "import skimage.color as color\n",
    "import skimage.morphology as morphology\n",
    "import matplotlib.pyplot as plt\n",
    "from numpy import ogrid\n",
    "%matplotlib inline"
   ]
  },
  {
   "cell_type": "markdown",
   "metadata": {},
   "source": [
    "Чтение изображения"
   ]
  },
  {
   "cell_type": "code",
   "execution_count": 2,
   "metadata": {},
   "outputs": [
    {
     "data": {
      "text/plain": [
       "(603, 1000)"
      ]
     },
     "execution_count": 2,
     "metadata": {},
     "output_type": "execute_result"
    }
   ],
   "source": [
    "img = imread('sample.png')\n",
    "img = color.rgb2grey(img)\n",
    "img.shape"
   ]
  },
  {
   "cell_type": "markdown",
   "metadata": {},
   "source": [
    "Посмотрим на изображение"
   ]
  },
  {
   "cell_type": "code",
   "execution_count": 3,
   "metadata": {},
   "outputs": [
    {
     "data": {
      "text/plain": [
       "(603, 1000)"
      ]
     },
     "execution_count": 3,
     "metadata": {},
     "output_type": "execute_result"
    },
    {
     "data": {
      "image/png": "[encoded data removed]",
      "text/plain": [
       "<Figure size 432x288 with 1 Axes>"
      ]
     },
     "metadata": {
      "needs_background": "light"
     },
     "output_type": "display_data"
    }
   ],
   "source": [
    "imshow(img)\n",
    "img.shape"
   ]
  },
  {
   "cell_type": "markdown",
   "metadata": {},
   "source": [
    "Определим функции для создания нужных нам фигур"
   ]
  },
  {
   "cell_type": "code",
   "execution_count": 4,
   "metadata": {},
   "outputs": [],
   "source": [
    "def disc_creator(shape, filled=True):\n",
    "    if shape[0] != shape[1] or shape[0] % 2 == 0:\n",
    "        print('Shape must be an odd square!')\n",
    "        return -1\n",
    "    fig = np.zeros(shape)\n",
    "    center = (shape[0] - 1) / 2\n",
    "    r = center\n",
    "    rows, cols = ogrid[:fig.shape[0], :fig.shape[1]]\n",
    "    if filled:\n",
    "        mask = np.sqrt((rows - center)**2 + (cols - center)**2) <= r\n",
    "    else:\n",
    "        mask = np.sqrt((rows - center)**2 + (cols - center)**2) <= r\n",
    "        mask_1 = r - shape[0] // 100 - 1 <= np.sqrt((rows - center)**2 + (cols - center)**2)\n",
    "        mask = mask * mask_1\n",
    "    fig[mask] = 1.\n",
    "    return fig\n",
    "    "
   ]
  },
  {
   "cell_type": "code",
   "execution_count": 5,
   "metadata": {},
   "outputs": [],
   "source": [
    "def figure_creator(fig_type, shape):\n",
    "    if fig_type == 'rectangle':\n",
    "        figure = np.full(shape, 1.)\n",
    "    elif fig_type == 'disc':\n",
    "        figure = disc_creator(shape)\n",
    "    elif fig_type == 'ring':\n",
    "        figure = disc_creator(shape, filled=False)\n",
    "    else:\n",
    "        print('Unsupported figure!')        \n",
    "    return figure"
   ]
  },
  {
   "cell_type": "code",
   "execution_count": 6,
   "metadata": {},
   "outputs": [
    {
     "data": {
      "text/plain": [
       "{0.0: 2844, 1.0: 9477}"
      ]
     },
     "execution_count": 6,
     "metadata": {},
     "output_type": "execute_result"
    },
    {
     "data": {
      "image/png": "[encoded data removed]",
      "text/plain": [
       "<Figure size 432x288 with 1 Axes>"
      ]
     },
     "metadata": {
      "needs_background": "light"
     },
     "output_type": "display_data"
    }
   ],
   "source": [
    "k = figure_creator('disc', (111,111))\n",
    "imshow(k)\n",
    "unique, counts = np.unique(k, return_counts=True)\n",
    "dict(zip(unique, counts))"
   ]
  },
  {
   "cell_type": "code",
   "execution_count": 7,
   "metadata": {},
   "outputs": [],
   "source": [
    "def dilation_custom(img, selem):\n",
    "    row = img.shape[0] + 2 * selem.shape[0]\n",
    "    column = img.shape[1] + 2 * selem.shape[1]\n",
    "    big_img = np.zeros((row, column))\n",
    "    big_img[selem.shape[0]: row - selem.shape[0], selem.shape[1]:column - selem.shape[1]] = img\n",
    "    ret_img = np.zeros(big_img.shape)\n",
    "    mask = big_img == 1.\n",
    "    selem_mask = selem == 1.\n",
    "    y_range = selem.shape[0] // 2\n",
    "    x_range = selem.shape[1] // 2\n",
    "    for i in range(0, mask.shape[0]):\n",
    "        for j in range(0, mask.shape[1]):\n",
    "            if mask[i][j]:\n",
    "                ret_img[i - y_range: i + y_range + 1, j - x_range: j + x_range + 1][selem_mask] = 1.\n",
    "    return ret_img[selem.shape[0]:-selem.shape[0], selem.shape[1]:-selem.shape[1]]"
   ]
  },
  {
   "cell_type": "code",
   "execution_count": 8,
   "metadata": {},
   "outputs": [],
   "source": [
    "def erosion_custom(img, selem):\n",
    "    row = img.shape[0] + 2 * selem.shape[0]\n",
    "    column = img.shape[1] + 2 * selem.shape[1]\n",
    "    big_img = np.zeros((row, column))\n",
    "    big_img[selem.shape[0]: row - selem.shape[0], selem.shape[1]:column - selem.shape[1]] = img\n",
    "    ret_img = np.zeros(big_img.shape)\n",
    "    mask = big_img == 1.\n",
    "    selem_mask = selem == 1.\n",
    "    y_range = selem.shape[0] // 2\n",
    "    x_range = selem.shape[1] // 2\n",
    "    for i in range(0, mask.shape[0]):\n",
    "        for j in range(0, mask.shape[1]):\n",
    "            if mask[i][j] and np.all((mask[i - y_range:i + y_range + 1,j - x_range:j + x_range + 1] * selem_mask) == selem_mask):\n",
    "                ret_img[i][j] = 1.\n",
    "    return ret_img[selem.shape[0]:-selem.shape[0], selem.shape[1]:-selem.shape[1]]"
   ]
  },
  {
   "cell_type": "code",
   "execution_count": 9,
   "metadata": {},
   "outputs": [],
   "source": [
    "def show_couple(im1, im2):\n",
    "    f, ax = plt.subplots(1, 2)\n",
    "    plt.rcParams[\"figure.figsize\"] = (20,10)\n",
    "    ax[0].imshow(im1, cmap='gray')\n",
    "    ax[1].imshow(im2, cmap='gray')"
   ]
  },
  {
   "cell_type": "code",
   "execution_count": 10,
   "metadata": {},
   "outputs": [
    {
     "name": "stderr",
     "output_type": "stream",
     "text": [
      "/usr/lib/python3/dist-packages/skimage/util/dtype.py:107: UserWarning: Possible precision loss when converting from float64 to uint8\n",
      "  \"%s to %s\" % (dtypeobj_in, dtypeobj))\n"
     ]
    }
   ],
   "source": [
    "imd = dilation_custom(img, k)\n",
    "imd_1 = morphology.dilation(img, k)"
   ]
  },
  {
   "cell_type": "code",
   "execution_count": 11,
   "metadata": {},
   "outputs": [
    {
     "data": {
      "image/png": "[encoded data removed]",
      "text/plain": [
       "<Figure size 432x288 with 2 Axes>"
      ]
     },
     "metadata": {
      "needs_background": "light"
     },
     "output_type": "display_data"
    }
   ],
   "source": [
    "show_couple(imd, imd_1)"
   ]
  },
  {
   "cell_type": "code",
   "execution_count": 12,
   "metadata": {},
   "outputs": [],
   "source": [
    "ime = erosion_custom(img, k)\n",
    "ime_1 = morphology.erosion(img, k)"
   ]
  },
  {
   "cell_type": "code",
   "execution_count": 13,
   "metadata": {},
   "outputs": [
    {
     "data": {
      "image/png": "[encoded data removed]",
      "text/plain": [
       "<Figure size 1440x720 with 2 Axes>"
      ]
     },
     "metadata": {
      "needs_background": "light"
     },
     "output_type": "display_data"
    }
   ],
   "source": [
    "show_couple(ime, ime_1)"
   ]
  },
  {
   "cell_type": "code",
   "execution_count": 14,
   "metadata": {},
   "outputs": [],
   "source": [
    "im_1 = morphology.erosion(img, k)"
   ]
  },
  {
   "cell_type": "code",
   "execution_count": 15,
   "metadata": {},
   "outputs": [
    {
     "ename": "NameError",
     "evalue": "name 'im' is not defined",
     "output_type": "error",
     "traceback": [
      "\u001b[0;31m---------------------------------------------------------------------------\u001b[0m",
      "\u001b[0;31mNameError\u001b[0m                                 Traceback (most recent call last)",
      "\u001b[0;32m<ipython-input-15-ab9961808158>\u001b[0m in \u001b[0;36m<module>\u001b[0;34m\u001b[0m\n\u001b[1;32m      1\u001b[0m \u001b[0;31m#imshow(im_1)\u001b[0m\u001b[0;34m\u001b[0m\u001b[0;34m\u001b[0m\u001b[0m\n\u001b[1;32m      2\u001b[0m \u001b[0mplt\u001b[0m\u001b[0;34m.\u001b[0m\u001b[0mrcParams\u001b[0m\u001b[0;34m[\u001b[0m\u001b[0;34m\"figure.figsize\"\u001b[0m\u001b[0;34m]\u001b[0m \u001b[0;34m=\u001b[0m \u001b[0;34m(\u001b[0m\u001b[0;36m20\u001b[0m\u001b[0;34m,\u001b[0m\u001b[0;36m10\u001b[0m\u001b[0;34m)\u001b[0m\u001b[0;34m\u001b[0m\u001b[0m\n\u001b[0;32m----> 3\u001b[0;31m \u001b[0mplt\u001b[0m\u001b[0;34m.\u001b[0m\u001b[0mimshow\u001b[0m\u001b[0;34m(\u001b[0m\u001b[0mim\u001b[0m\u001b[0;34m)\u001b[0m\u001b[0;34m\u001b[0m\u001b[0m\n\u001b[0m\u001b[1;32m      4\u001b[0m \u001b[0mplt\u001b[0m\u001b[0;34m.\u001b[0m\u001b[0mshow\u001b[0m\u001b[0;34m(\u001b[0m\u001b[0;34m)\u001b[0m\u001b[0;34m\u001b[0m\u001b[0m\n",
      "\u001b[0;31mNameError\u001b[0m: name 'im' is not defined"
     ]
    }
   ],
   "source": [
    "#imshow(im_1)\n",
    "plt.rcParams[\"figure.figsize\"] = (20,10)\n",
    "plt.imshow(im)\n",
    "plt.show()"
   ]
  },
  {
   "cell_type": "code",
   "execution_count": null,
   "metadata": {},
   "outputs": [],
   "source": []
  }
 ],
 "metadata": {
  "kernelspec": {
   "display_name": "Python 3",
   "language": "python",
   "name": "python3"
  },
  "language_info": {
   "codemirror_mode": {
    "name": "ipython",
    "version": 3
   },
   "file_extension": ".py",
   "mimetype": "text/x-python",
   "name": "python",
   "nbconvert_exporter": "python",
   "pygments_lexer": "ipython3",
   "version": "3.5.2"
  }
 },
 "nbformat": 4,
 "nbformat_minor": 4
}
