{
 "cells": [
  {
   "cell_type": "code",
   "execution_count": 1,
   "metadata": {},
   "outputs": [],
   "source": [
    "import numpy as np\n",
    "from skimage.io import imread, imsave, imshow\n",
    "import skimage.color as color\n",
<<<<<<< HEAD
    "import skimage.morphology as morph\n",
=======
    "import skimage.morphology as morphology\n",
>>>>>>> origin/master
    "import matplotlib.pyplot as plt\n",
    "from numpy import ogrid\n",
    "%matplotlib inline"
   ]
  },
  {
   "cell_type": "markdown",
   "metadata": {},
   "source": [
    "Чтение изображения"
   ]
  },
  {
   "cell_type": "code",
   "execution_count": 2,
   "metadata": {},
   "outputs": [
    {
     "data": {
      "text/plain": [
       "(603, 1000)"
      ]
     },
     "execution_count": 2,
     "metadata": {},
     "output_type": "execute_result"
    }
   ],
   "source": [
    "img = imread('sample.png')\n",
    "img = color.rgb2grey(img)\n",
    "img.shape"
   ]
  },
  {
   "cell_type": "markdown",
   "metadata": {},
   "source": [
    "Посмотрим на изображение"
   ]
  },
  {
   "cell_type": "code",
   "execution_count": 3,
   "metadata": {},
   "outputs": [
    {
     "data": {
      "text/plain": [
<<<<<<< HEAD
       "<matplotlib.image.AxesImage at 0x274be4e7f48>"
=======
       "(603, 1000)"
>>>>>>> origin/master
      ]
     },
     "execution_count": 3,
     "metadata": {},
     "output_type": "execute_result"
    },
    {
     "data": {
<<<<<<< HEAD
      "image/png": "iVBORw0KGgoAAAANSUhEUgAAAagAAAELCAYAAACMOhKAAAAABHNCSVQICAgIfAhkiAAAAAlwSFlzAAALEgAACxIB0t1+/AAAADh0RVh0U29mdHdhcmUAbWF0cGxvdGxpYiB2ZXJzaW9uMy4xLjEsIGh0dHA6Ly9tYXRwbG90bGliLm9yZy8QZhcZAAAVtElEQVR4nO3db6xkdX3H8fe3uyL+qS6gELq7Fowbq2ki0g3dVtNYsA2gcXkAKcaGDdlmn2iL1caiTxqTNtGkEUtsSDZiuxhbJKhhY4wtAZr6BMquWBRXypZa9nZXVsMfbUm01G8fzG90uDt777n3zsz5nXPer+Rm5pw5d+7v/ObM7zPfc86cG5mJJEm1+YW2GyBJ0jQGlCSpSgaUJKlKBpQkqUoGlCSpSgaUJKlKcwmoiLg8Ih6NiKMRceM8/oYkqd9i1t+DiohNwL8BvwMsAQ8C787Mb8/0D0mSem0eFdQlwNHMfDwzfwLcDuyew9+RJPXYPAJqK3BsYnqpzJMkqbHNc3jOmDLvlP2IEbEP2Fcmf20O7ZAkdcMPMvPVy2fOI6CWgO0T09uA48sXysz9wH6AiPCCgJI0XP85beY8dvE9COyIiAsj4gzgWuDgHP6OJKnHZl5BZebzEfE+4B+ATcBnMvORWf8dSVK/zfw083U1wl18kjRkhzNz5/KZXklCklQlA0qSVCUDSpJUJQNKklQlA0qSVCUDSpJUJQNKklQlA0qSVCUDSpJUJQNKklQlA0qSVCUDSpJUJQNKklQlA0qSVCUDSpJUJQNKklQlA0qSVCUDSpJUJQNKklQlA0qSVCUDSpJUJQNKklQlA0qSVCUDSpJUJQNKklQlA0qSVCUDSpJUJQNKklSlzW03QJqlzNzQ70fEjFoiaaMMKPXGRsNp+XMYVlK7Vt3FFxGfiYiTEfGtiXlnR8TdEfFYuT2rzI+IuDkijkbEwxFx8TwbL8EoVGYRTqd73nk8t6TVNTkG9bfA5cvm3Qjck5k7gHvKNMAVwI7ysw+4ZTbNlKZbVHgYVNLirRpQmfnPwFPLZu8GDpT7B4CrJubfliP3A1si4vxZNVaa1EZgGFLS4qz3LL7zMvMEQLk9t8zfChybWG6pzJNmqs2gsJqSFmPWJ0lMO6o89Z0cEfsY7QaU1sRwkIZhvRXUk+Ndd+X2ZJm/BGyfWG4bcHzaE2Tm/szcmZk719kGDVBN4WQlJc3XegPqILCn3N8D3DUx/7pyNt8u4NnxrkBpo2oNg1rbJXXdqrv4IuLvgbcBr4qIJeDPgI8Bd0TEXuAJ4Jqy+FeAK4GjwHPA9XNoswbIEJCGJ2p440dE+41QtWrYRpvyy73SuhyedrjHa/FJkqpkQKlqXaqeoHvtlWpmQEmSqmRAqVpdrUa62m6pNgaUquQgL8mAkiRVyYBSdfpQPfVhHaS2GVCSpCoZUKqKlYekMQNKklQlA0rV6Fv11Lf1kRbNgFIVHMwlLWdASZKqZEBJc2RlKK2fASVJqpIBpdZZZUiaxoCSJFXJgJLmzApRWh8DSpJUJQNKrRpKdTGU9ZRmyYCSJFXJgJIWxCpKWhsDSpJUJQNKWiCrKKk5A0paMENKasaAUqsiou0mSKqUASW1IDOtpKRVGFBSiwwp6fQMKLVu6Lv5rKak6VYNqIjYHhH3RcSRiHgkIm4o88+OiLsj4rFye1aZHxFxc0QcjYiHI+Liea+E1AfjoDKspJEmFdTzwAcz8w3ALuC9EfFG4EbgnszcAdxTpgGuAHaUn33ALTNvtXpn6FXUcoaU1CCgMvNEZn693P8RcATYCuwGDpTFDgBXlfu7gdty5H5gS0ScP/OWSz1nSGno1nQMKiIuAN4MPACcl5knYBRiwLllsa3AsYlfWyrzpBVZRZ3KXX4ass1NF4yIlwNfAN6fmT9cYTCZ9sAp77CI2MdoF6CkVYxDyhDXkDSqoCLiRYzC6XOZ+cUy+8nxrrtye7LMXwK2T/z6NuD48ufMzP2ZuTMzd6638eofB+CVeSKFhqTJWXwB3AocycxPTDx0ENhT7u8B7pqYf105m28X8Ox4V6Ck2TGo1Hex2gYeEW8FvgZ8E/hpmf0RRseh7gBeAzwBXJOZT5VA+xRwOfAccH1mHlrlb/gu0ws48K6PFag66vC0vWmrBtQiGFCapoZts6sMKnXM1IDyShJSD7n7T33Q+Cw+adEiwkF2g5b3n5WVusQKSlVzQJ0tKyt1iRWUNECTIeWHANXKCkrVcwCdL6sq1coKShJgVaX6WEGpExwwF8uqSjUwoNQZhtTiGVRqk7v4JK1qyLv/PFW/PVZQ6hQHh/a1UVG1VcVN+7tesHdxrKAkrdki//3H+G8t+l+ONAmgIVeWi2AFpc5xIKiH1cTP2Q+zZ0BJmol5DNCn28VWs9rb1yUGlKSZ6kMlsdH2d339a2FASZqLjQZV1wf5rre/BgaUOsnjUN2xnqDqy+Deh2qyTQaUpIVoOli3PaDP4++3vU5dZUBJWqiVgqrPA3mf121eDChJrRjiKepDWtdZMKAktW5IQTWU9ZwFA0pSp8zzBJlFhYch1YwBJakTIqJXZ28aUqszoCRVr0/BNMmQWpkBJalafauapjGkTs+AklSlRQdTm0FhSE3nv9uQVI2+V0srycxBr/80BpSk1rU9MNdSwSz6f17VzoCS1BoHYq3EY1CSFq6mkx9qqZ4m1dimNhhQkhaqlmCqnSHVIKAi4syI+JeI+NeIeCQiPlrmXxgRD0TEYxHx+Yg4o8x/cZk+Wh6/YL6rIKkLaqqaxmoPgdrbN29NKqgfA5dm5puAi4DLI2IX8HHgpszcATwN7C3L7wWezszXATeV5SSpKl0Z/LvSznlYNaBy5L/L5IvKTwKXAneW+QeAq8r93WWa8vhlUdvHJkmD1rVBv2vtnZVGx6AiYlNEfAM4CdwN/DvwTGY+XxZZAraW+1uBYwDl8WeBc6Y8576IOBQRhza2CpKkPmoUUJn5f5l5EbANuAR4w7TFyu20aumU+M/M/Zm5MzN3Nm2sNDbUT5RdVstrVks71qqr7d6INZ3Fl5nPAP8E7AK2RMT4e1TbgOPl/hKwHaA8/krgqVk0VlK3tT3Itv33tTZNzuJ7dURsKfdfArwdOALcB1xdFtsD3FXuHyzTlMfvTbcKSUVbw4HDUPc0uZLE+cCBiNjEKNDuyMwvR8S3gdsj4s+Bh4Bby/K3Ap+NiKOMKqdr59BuDZgDTfct+rpzfdlmhna9vqjhhYuI9huhTqhhe9VszXvA7ds209OAOjztfASvxafO6NtAo5F5XSDV7aX7DChVz4FmGGYVVG4v/WFAqWoONsOznqByO+knA0pVcsCR24AMKFXFQUnSmAGl1hlKUjM9PYPvtAwoLZyBtLL1DkL2q/rGgNJCOHg2s5FPyOPfta/VFwaUZsaBcWNmtftm8nl8TdRlBpQac7DrHquq/hja8ScwoDSFg1n/GFTqIgOq5xyQNMmg6qYhVk9gQHWeA01/LPJK1QZVdww1nMCAmjnf8OoST6hQzQyoGfCN3S01Vw9t/r8fw6o+Q66eYI3/8l3qk1rf/DWEQ0RU2z9DYf9bQW1YDYOJ1q/Wampe/yNprWrtnz5r+zWviRWUpFVZUS2GffxCVlAalNMNALVWCrVUUmMep5qfWl7jmlhBSRNqHSRqDINxVVVrn3WJfTidASUtU+tgUWNIjRlW62efnZ4BpcFYy0BQ66BRc0iNGVbN2EerM6Ck03Dw2DgH4ensk2Y8SUKDsN4BISKqq1pqO3GiCU+uGOnSa1YDA0q9t9FBocaQgnavOrER09pcY//OUhdfpxq4i0+9No9/AliTvgzsfd4V2Nf1WgQrqA2q9dO1Zq/W17qrldQ0faqu+vKatMmAUm/NY4CoNaT6bPnrWHP/G0qzZUDNgINWfeY5UNT4enfxxIn1Wm0dF/naDKG/29T4GFREbIqIhyLiy2X6woh4ICIei4jPR8QZZf6Ly/TR8vgF82m6dKpFHcuodWCqLTjbMPk9rHn/aL7WcpLEDcCRiemPAzdl5g7gaWBvmb8XeDozXwfcVJaTeqfWAcqQUl80CqiI2Aa8A/h0mQ7gUuDOssgB4Kpyf3eZpjx+WdT6Tp6hAaxi9dp4DWp93Q0p9UHTCuqTwIeAn5bpc4BnMvP5Mr0EbC33twLHAMrjz5blpblpMyhqDSmp61YNqIh4J3AyMw9Pzp6yaDZ4bPJ590XEoYg41KilHeBA1Y4a+r2GNixnFaWua3IW31uAd0XElcCZwCsYVVRbImJzqZK2AcfL8kvAdmApIjYDrwSeWv6kmbkf2A8QEb15J9V4hldf1RYKNb72ffqOlIZn1QoqMz+cmdsy8wLgWuDezHwPcB9wdVlsD3BXuX+wTFMevzdre9eq8xx0m8vM6oJTamIjlzr6U+ADEXGU0TGmW8v8W4FzyvwPADdurInd4+A5XzX3r6cfS7MTNXyy6tMuvkk19G3fdGXwr/W170r/aXAOZ+bO5TO9WOwcORjMVpf6s9a21hqc0jQGlDqh1gF/JbW22ZBSVxhQc1brINUlXe7DWttuSKkLDKgFqHWQ6oI+9F2t62BIqXYGlKpV68C+HrWuiyGlmhlQC1LrAKXFqXUbMKRUKwNqgWodoGrT5+8S1bpehpRqZEBJC2ZISc0YUAtW6+BUi6H0T61VoiGlmhhQLahxYFI73Bak0zOgWuLAdKqh9klt620VpVoYUKpCbYP0otW2y8+QUg0MqBbVNCCpDjVtE4aU2mZAtaymAakt9sEL1VZNSW0xoCow5MFoyOu+mhr6xipKbTKgKlHDYKT61FBN+R951RYDqiJtD0SLNrT13YgagkpaNANK6pA2Q8oqSotmQFVmKJ+Uh7CO89LmNmJIaZEMKC2c4TQbhpT6zoCqlIO4mmirmjKktAgGVMX6uLuvb+tTiza2Fc/u07wZUFoYw2n+rKbUJwZUB/SxktL8tFVNSbNmQGkhDNjFW3RQGVKaNQOqQ7o6yHe13X2xyKAypDRLBlTHdG13X5fa2neLDCmDSrNgQHWUA7/Wo2sfcDRsBlSH1TzQOBDWbRGvj5WUNqpRQEXEdyPimxHxjYg4VOadHRF3R8Rj5fasMj8i4uaIOBoRD0fExfNcgaEzBLQRbj+q2VoqqN/OzIsyc2eZvhG4JzN3APeUaYArgB3lZx9wy6waq+lqG2Rqa49WNu9qyipK67WRXXy7gQPl/gHgqon5t+XI/cCWiDh/A39HDdSyS62GNmh95rkNubtP69E0oBL4x4g4HBH7yrzzMvMEQLk9t8zfChyb+N2lMk8L0GZAGE79MA4qX0+1bXPD5d6Smccj4lzg7oj4zgrLTtuqT/noVIJu35RltUER4adVzcQ4pGa1PY2fx/BTE40qqMw8Xm5PAl8CLgGeHO+6K7cny+JLwPaJX98GHJ/ynPszc+fEMS3N0KIHAAecfpv16+sHKDWxakBFxMsi4hfH94HfBb4FHAT2lMX2AHeV+weB68rZfLuAZ8e7ArVYi9pNYzgNw6y3J0NKq2myi+884Etlw9wM/F1mfjUiHgTuiIi9wBPANWX5rwBXAkeB54DrZ95qrck8d/kZTsMz+ZpvdLvKTLchnVbU8CkmItpvxADM+rV2YBHMbrtyexq0w9MO93gliQGZ5QDgYKKxWZ31V8OHZdXFgBoYTx/WPG10+zKkNMmAGqiNfOo14LSajQSVIaWxpt+DUo8tH0hON0AYTFqr9X6Pyu9LCQwoTeGgoFnbSFC5PQ6XASVpYdZzirrV1HB5DEpSKzxhR6uxgpLUqqZVlZXU8BhQkqrR5IQdg2o43MUnqVorhZCno/efFZSkqk0LqXE4WU31mwElqXMMpGFwF58kqUoGlCSpSgaUJKlKBpQkqUoGlCSpSgaUJKlKBpQkqUoGlCSpSgaUJKlKBpQkqUoGlCSpSgaUJKlKBpQkqUoGlCSpSgaUJKlKBpQkqUoGlCSpSgaUJKlKjQIqIrZExJ0R8Z2IOBIRvxERZ0fE3RHxWLk9qywbEXFzRByNiIcj4uL5roIkqY+aVlB/BXw1M38FeBNwBLgRuCczdwD3lGmAK4Ad5WcfcMtMWyxJGoRVAyoiXgH8FnArQGb+JDOfAXYDB8piB4Cryv3dwG05cj+wJSLOn3nLJUm91qSCei3wfeBvIuKhiPh0RLwMOC8zTwCU23PL8luBYxO/v1TmSZLUWJOA2gxcDNySmW8G/oef786bJqbMy1MWitgXEYci4lCjlkqSBmVzg2WWgKXMfKBM38kooJ6MiPMz80TZhXdyYvntE7+/DTi+/Ekzcz+wHyAifgQ8ur5VGKxXAT9ouxEdY5+tnX22dvbZ2v3ytJmrBlRmfi8ijkXE6zPzUeAy4NvlZw/wsXJ7V/mVg8D7IuJ24NeBZ8e7AlfwaGbubLYeAoiIQ/bZ2thna2efrZ19NjtNKiiAPwQ+FxFnAI8D1zPaPXhHROwFngCuKct+BbgSOAo8V5aVJGlNGgVUZn4DmPaJ4LIpyybw3g22S5I0cLVcSWJ/2w3oIPts7eyztbPP1s4+m5EYFTySJNWllgpKkqQXaD2gIuLyiHi0XLtvpe9XDUZEbI+I+8p1Dx+JiBvKfK9/uIqI2FS+UP7lMn1hRDxQ+uzz5UQfIuLFZfpoefyCNtvdFq+zuXYR8cflffmtiPj7iDjT7Ww+Wg2oiNgE/DWj6/e9EXh3RLyxzTZV4nngg5n5BmAX8N7SL17/cHU3MLpW5NjHgZtKnz0N7C3z9wJPZ+brgJvKckPkdTbXICK2An8E7MzMXwU2AdfidjYXbVdQlwBHM/PxzPwJcDuja/kNWmaeyMyvl/s/YjRobMXrH64oIrYB7wA+XaYDuJTRl8vh1D4b9+WdwGVl+cHwOpvrthl4SURsBl4KnMDtbC7aDiiv27eKskvgzcADeP3D1XwS+BDw0zJ9DvBMZj5fpif75Wd9Vh5/tiw/JF5nc40y87+Av2T03c8TjLabw7idzUXbAdXoun1DFREvB74AvD8zf7jSolPmDaofI+KdwMnMPDw5e8qi2eCxoZjLdTb7rByP2w1cCPwS8DJGuz6XczubgbYDqtF1+4YoIl7EKJw+l5lfLLOfHO9SWc/1D3vuLcC7IuK7jHYVX8qootpSdsXAC/vlZ31WHn8l8NQiG1yBadfZvBi3s5W8HfiPzPx+Zv4v8EXgN3E7m4u2A+pBYEc5A+YMRgcbD7bcptaVfdS3Akcy8xMTDx1kdN1DOPX6h9eVs6x20ez6h72SmR/OzG2ZeQGj7ejezHwPcB9wdVlseZ+N+/LqsvygPtlm5veAYxHx+jJrfJ1Nt7PTewLYFREvLe/TcZ+5nc1B61/UjYgrGX3S3QR8JjP/otUGVSAi3gp8DfgmPz+e8hFGx6HuAF5Duf5hZj5V3iifAi6nXP8wMwf7b0wi4m3An2TmOyPitYwqqrOBh4Dfz8wfR8SZwGcZHd97Crg2Mx9vq81tiYiLGJ1Ucsp1NnE7myoiPgr8HqOzbR8C/oDRsSa3sxlrPaAkSZqm7V18kiRNZUBJkqpkQEmSqmRASZKqZEBJkqpkQEmSqmRASZKqZEBJkqr0/1YF52ZxOoRFAAAAAElFTkSuQmCC\n",
=======
      "image/png": "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\n",
>>>>>>> origin/master
      "text/plain": [
       "<Figure size 432x288 with 1 Axes>"
      ]
     },
     "metadata": {
      "needs_background": "light"
     },
     "output_type": "display_data"
    }
   ],
   "source": [
<<<<<<< HEAD
    "imshow(img)"
=======
    "imshow(img)\n",
    "img.shape"
>>>>>>> origin/master
   ]
  },
  {
   "cell_type": "markdown",
   "metadata": {},
   "source": [
    "Определим функции для создания нужных нам фигур"
   ]
  },
  {
   "cell_type": "code",
   "execution_count": 4,
   "metadata": {},
   "outputs": [],
   "source": [
    "def disc_creator(shape, filled=True):\n",
    "    if shape[0] != shape[1] or shape[0] % 2 == 0:\n",
    "        print('Shape must be an odd square!')\n",
    "        return -1\n",
    "    fig = np.zeros(shape)\n",
    "    center = (shape[0] - 1) / 2\n",
    "    r = center\n",
    "    rows, cols = ogrid[:fig.shape[0], :fig.shape[1]]\n",
    "    if filled:\n",
<<<<<<< HEAD
    "        mask = (rows - center)**2 + (cols - center)**2 <= r*r\n",
    "        #print((rows-center)**2)\n",
=======
    "        mask = np.sqrt((rows - center)**2 + (cols - center)**2) <= r\n",
>>>>>>> origin/master
    "    else:\n",
    "        mask = np.sqrt((rows - center)**2 + (cols - center)**2) <= r\n",
    "        mask_1 = r - shape[0] // 100 - 1 <= np.sqrt((rows - center)**2 + (cols - center)**2)\n",
    "        mask = mask * mask_1\n",
    "    fig[mask] = 1.\n",
    "    return fig\n",
    "    "
   ]
  },
  {
   "cell_type": "code",
   "execution_count": 5,
   "metadata": {},
   "outputs": [],
   "source": [
    "def figure_creator(fig_type, shape):\n",
    "    if fig_type == 'rectangle':\n",
    "        figure = np.full(shape, 1.)\n",
    "    elif fig_type == 'disc':\n",
    "        figure = disc_creator(shape)\n",
    "    elif fig_type == 'ring':\n",
    "        figure = disc_creator(shape, filled=False)\n",
    "    else:\n",
    "        print('Unsupported figure!')        \n",
    "    return figure"
   ]
  },
  {
   "cell_type": "code",
   "execution_count": 6,
   "metadata": {},
   "outputs": [
    {
     "data": {
      "text/plain": [
<<<<<<< HEAD
       "{0.0: 11641, 1.0: 680}"
=======
       "{0.0: 2844, 1.0: 9477}"
>>>>>>> origin/master
      ]
     },
     "execution_count": 6,
     "metadata": {},
     "output_type": "execute_result"
    },
    {
     "data": {
<<<<<<< HEAD
      "image/png": "iVBORw0KGgoAAAANSUhEUgAAAR4AAAEYCAYAAACKkJnLAAAABHNCSVQICAgIfAhkiAAAAAlwSFlzAAALEgAACxIB0t1+/AAAADh0RVh0U29mdHdhcmUAbWF0cGxvdGxpYiB2ZXJzaW9uMy4xLjEsIGh0dHA6Ly9tYXRwbG90bGliLm9yZy8QZhcZAAARFUlEQVR4nO3dXawc5XnA8f9TO4RCGtlOBHJsKEaykkaRErDVQpILBIkKNApcgAJNFTei8k2r0LRSYtqLKheVihQFEjVCtYDErSI+6qDY4iIRcujHTV2OQ0sMhtgNlTngYCo+WqVShcXTi501y/HunvV+vDsz+/9JR7szu2fnOe/OPOd533dmNzITSSrpV+YdgKTFY+KRVJyJR1JxJh5JxZl4JBVn4pFU3EwST0RcGxHPRcSxiNg1i21Iaq6Y9nk8EbEG+BnwaWAZeAK4NTOfmeqGJDXW2hm85m8CxzLz5wAR8SBwAzAw8USEZzEugG3btp2+f+jQoTlGolIyM/qtn0Xi2QS80LO8DPzWDLajhllaWjp9P6Lv/qgFMYvE02+POqOiiYidwM4ZbF8TKnEZzay2YUJrhlkknmXgop7lzcBLK5+UmbuB3WBXS1o0s0g8TwBbI2IL8CJwC/C7M9iOxtD2i4JH+fusiuZv6oknM09FxB8BPwLWAPdn5tPT3o6k5pr6dPpYQdjVKqYO7/e8WfGUU3JWSzUwSYJp8oE5yt896DlN/rubxksmJBVnxdNg41Q1bf+vPsrfN6jdhrVn29utNCseScVZ8TTE2VY3/ocebFDbDGvjfo/ZxuOz4pFUnBVPTXkiXHnD2rPf+7Fyne/H6Kx4JBVn4pFUnF2tmlita2UZP1/92n/le2bXa3RWPJKKs+KZAweO22Hle7RaBdTvdxaVFY+k4qx4CrDCWQyrVUD91i3q+27FI6k4K54ZscpR7/s7yoWpi7Q/WPFIKs6KZ0qscDSM4z/vZMUjqTgTj6Ti7GpNyC6WxtHdJ0b5DKA27j9WPJKKs+IZg5/Nq2k5m4tP27RvWfFIKs6K5yxY6aiEQeM/bTrZ0IpHUnFWPCOw0tE8DJv5avq4jxWPpOJMPJKKs6s1xKAuVlPLWzVTG7tcVjySirPi6cNKR3U07PN9mlb5WPFIKs6Kp+KUuZqk6ScZWvFIKm7hKx4rHTVZU2e8xq54IuKiiHg8Io5ExNMRcXu1fkNEPBYRR6vb9dMLV1IbxCgfZNX3FyM2Ahsz8ycR8WvAIeBG4PeBVzPzryJiF7A+M7+6ymuNF8QUWPGoDeq6H2dm342PXfFk5onM/El1/3+AI8Am4AZgT/W0PXSSUe1k5tBpc5OOmmTYPjtsX5+XqYzxRMQlwGXAQeDCzDwBneQUERcM+J2dwM5pbF9Ss4zd1Tr9AhHvAf4R+MvMfCQiXs/MdT2Pv5aZQ8d5Sna1PDlQi6IO+/rUu1oAEfEu4PvA9zLzkWr1y9X4T3cc6OQk25DUPpPMagVwH3AkM7/R89B+YEd1fwewb/zwpqPbx+33H8DxHLXVoH172PFQyiSzWp8E/hn4KfBWtfrP6IzzPAxcDBwHbs7MV1d5rZm2QF1H/KUS5rn/D+pqTTzGMw3zSDwmHC2aeRwHMxnjkaRxtPqSiTpUc1KdzeuyCiseScWZeCQV18qulrNY0pnqdCW7FY+k4lpZ8axklSO9bdhnN5dixSOpuFZVPE6fS5MpNdZjxSOpuFZVPCs5tiMNN2yma5aseCQVZ+KRVFwrulory0S7WNLZWdnlmvUgsxWPpOJMPJKKM/FIKq6xYzx+qqA0fYPGenofmwYrHknFmXgkFWfikVRc48Z4HNuRZq/fpRTTPLfHikdScSYeScWZeCQVZ+KRVFxjBpe9EFQqr9/nM09jkNmKR1JxJh5JxZl4JBVn4pFUnIlHUnEmHknF1X463Wl0qR6m+bnMVjySips48UTEmoh4MiIerZa3RMTBiDgaEQ9FxDmThympTaZR8dwOHOlZvhO4KzO3Aq8Bt01hG5JaZKLEExGbgd8B7q2WA7ga2Fs9ZQ9w4yTbkNQ+k1Y8dwNfAd6qlt8HvJ6Zp6rlZWBTv1+MiJ0RsRQRSxPGIKlhxk48EfEZ4GRmHupd3eepfb8NPjN3Z+b2zNze57HTPz3bc0ZLqoGVx2K/43U1k0ynfwL4bERcD5wLvJdOBbQuItZWVc9m4KUJtiGphcaueDLzjszcnJmXALcAP87MzwOPAzdVT9sB7Js4SkmtMovzeL4K/ElEHKMz5nPfDLYhqcHibPplMwsi4h1B+E0SUv2NcpxmZt8D1zOXJRVn4pFUnIlHUnEmHknF1epjMRxUlppjkq85tuKRVJyJR1JxJh5JxZl4JBVn4pFUnIlHUnEmHknFmXgkFWfikVSciUdScSYeScWZeCQVZ+KRVJyJR1JxJh5JxZl4JBVn4pFUnIlHUnEmHknFmXgkFWfikVRcLRLPtm3b+n7DhKRmyky2bds28PFaJB5Ji8XEI6m4qEMXJyIS/EI/qYmGHbeZ2fcAtuKRVJyJR1JxJh5JxZl4JBVn4pFU3ESJJyLWRcTeiHg2Io5ExJURsSEiHouIo9Xt+mkFK6kdJq14vgn8MDM/BHwUOALsAg5k5lbgQLUsSaeNfR5PRLwX+Hfg0ux5kYh4DrgqM09ExEbgHzLzg6u8lufxSA1V+jyeS4FXgO9ExJMRcW9EnA9cmJknqo2eAC6YYBuSWmiSxLMWuBy4JzMvA37JWXSrImJnRCxFxNIEMUhqoEkSzzKwnJkHq+W9dBLRy1UXi+r2ZL9fzszdmbk9M7dPEIOkBho78WTmL4AXIqI7fnMN8AywH9hRrdsB7JsoQkmtM9FFohHxMeBe4Bzg58AX6SSzh4GLgePAzZn56iqv4+Cy1FDjDC57dbqkiXh1uqRGMPFIKs7EI6k4E4+k4kw8kooz8UgqzsQjqbi18w6gV8/c/+l13fuezyPVyyTn3VnxSCrOxCOpOBOPpOJMPJKKM/FIKs7EI6k4E4+k4kw8koqr1QmEXb0nIXVPUvJEQqkeVp44OM4xacUjqTgTj6TiTDySijPxSCrOxCOpuFrOavVa+VEZzm5J8zGN2awuKx5JxZl4JBVn4pFUnIlHUnEmHknFmXgkFVf76fSuQdPqvY9Jmq5JvkliGCseScWZeCQVZ+KRVJyJR1JxjRlc7vJrjqXZm9WgcpcVj6TiJko8EfHliHg6Ig5HxAMRcW5EbImIgxFxNCIeiohzphWspHYYO/FExCbgS8D2zPwIsAa4BbgTuCsztwKvAbdNI1BJ7TFpV2st8KsRsRY4DzgBXA3srR7fA9w44Tb6iojTP12Z2bdvKmk0K4+hfsfZNIydeDLzReDrwHE6CecN4BDwemaeqp62DGzq9/sRsTMiliJiadwYJDXTJF2t9cANwBbgA8D5wHV9ntq3BMnM3Zm5PTO3jxuDpGaapKv1KeD5zHwlM98EHgE+Dqyrul4Am4GXJoxRUstMkniOA1dExHnR6QBeAzwDPA7cVD1nB7BvshBX51iPNJlBYzuzEpMcoBHxNeBzwCngSeAP6IzpPAhsqNb9Xmb+3yqvM5UsMc0Po5YWyayOnczs+0ITJZ5pMfFI81U68TTukomz4aUU0nDzKjy8ZEJSca2qePpdQCppdKV6B1Y8koprVcUziJ/PLL2tDj0CKx5JxbWy4hk21uNMlxbVsEqn9PFgxSOpOBOPpOJa2dXqcnpdGm5eQw5WPJKKa3XFM4yDzFoUdaz4rXgkFbcQFc/Kz+rpZeWjthpU6dRhX7fikVTcQlQ8vQbNdHlZhdqgTicJDmPFI6m4hat4urysQm3SlEqny4pHUnEmHknFLWxXq8sul5qsaV2sLiseScUtfMXT5UmGapI6nxw4CiseScVZ8fSx2kmGTfmvonZp6nhOP1Y8koqz4hnCyytUB22qdLqseCQVZ+KRVJxdrRF4kqHmoY1drC4rHknFWfGcBSsfldD0kwNHYcUjqTgrnjGMcnnFoOdLvUb5Bog27j9WPJKKWzXxRMT9EXEyIg73rNsQEY9FxNHqdn21PiLiWxFxLCKeiojLZxl8HUTEqv+RMrOW322k+Rllnxhl32qqUSqe7wLXrli3CziQmVuBA9UywHXA1upnJ3DPdMKU1CarJp7M/Cfg1RWrbwD2VPf3ADf2rP/b7PgXYF1EbJxWsJLaYdzB5Qsz8wRAZp6IiAuq9ZuAF3qet1ytO7HyBSJiJ52qqBVWlsTDptwH/Y7aa1EHkQeZ9qxWv5br2+KZuRvYDRARDoBIC2TcWa2Xu12o6vZktX4ZuKjneZuBl8YPr7m6A4PD/ot1BxgdeG6nUd7fUfaTNho38ewHdlT3dwD7etZ/oZrdugJ4o9slk6SuGGFK7wHgKuD9wMvAXwA/AB4GLgaOAzdn5qvRSdt/TWcW7H+BL2bm0qpBLFhXy/5+O/m+nikz+/7BqyaeEkw8Z1q0HbQNfF/PNCjxeMnEHPTb+Va79GLRdtgmGOUEQPXnJROSirPiqYnVzgPy4tP5shs1XVY8kooz8Ugqzq5WTY1zCcaw39fqznaG1zYenxWPpOKseBpilCn4UR7zv/TZVzZgu02bFY+k4qx4Gmy1C1DPZv2or1t3k5yJ3+S/u2mseCQVZ8XTUoP+e49SEdTh+r1ZsrKZPyseScWZeCQVZ1drwYzSzWhyV8tuVDNY8UgqzopHZ5hV1dBbSVmZLDYrHknF1aXi+S/gl9Vtk7yfZsU813jHqHKa1r7QvJhnGe+vD3qgFp+5DBARS5m5fd5xnI2mxWy8s9e0mOcVr10tScWZeCQVV6fEs3veAYyhaTEb7+w1Lea5xFubMR5Ji6NOFY+kBVGLxBMR10bEcxFxLCJ2zTuelSLiooh4PCKORMTTEXF7tX5DRDwWEUer2/XzjrVXRKyJiCcj4tFqeUtEHKzifSgizpl3jL0iYl1E7I2IZ6u2vrLObRwRX672h8MR8UBEnFu3No6I+yPiZEQc7lnXt02j41vVcfhURFw+q7jmnngiYg3wbeA64MPArRHx4flGdYZTwJ9m5m8AVwB/WMW4CziQmVuBA9VyndwOHOlZvhO4q4r3NeC2uUQ12DeBH2bmh4CP0om9lm0cEZuALwHbM/MjwBrgFurXxt8Frl2xblCbXgdsrX52AvfMLKrMnOsPcCXwo57lO4A75h3XKjHvAz4NPAdsrNZtBJ6bd2w9MW6udqqrgUeBoHOi2Np+7T7vH+C9wPNU444962vZxsAm4AVgA50TcR8FfruObQxcAhxerU2BvwFu7fe8af/MveLh7Tewa7laV0sRcQlwGXAQuDAzTwBUtxfML7Iz3A18BXirWn4f8HpmnqqW69bOlwKvAN+puof3RsT51LSNM/NF4OvAceAE8AZwiHq3cdegNi12LNYh8fQ7j76WU20R8R7g+8AfZ+Z/zzueQSLiM8DJzDzUu7rPU+vUzmuBy4F7MvMyOpfQ1KJb1U81LnIDsAX4AHA+na7KSnVq49UU20fqkHiWgYt6ljcDL80ploEi4l10ks73MvORavXLEbGxenwjcHJe8a3wCeCzEfGfwIN0ult3A+siont9Xt3aeRlYzsyD1fJeOomorm38KeD5zHwlM98EHgE+Tr3buGtQmxY7FuuQeJ4AtlazAefQGaDbP+eY3iE6VzfeBxzJzG/0PLQf2FHd30Fn7GfuMvOOzNycmZfQac8fZ+bngceBm6qn1SZegMz8BfBCRHywWnUN8Aw1bWM6XawrIuK8av/oxlvbNu4xqE33A1+oZreuAN7odsmmbt4DX9Ug1vXAz4D/AP583vH0ie+TdErOp4B/q36upzNucgA4Wt1umHesfWK/Cni0un8p8K/AMeDvgXfPO74VsX4MWKra+QfA+jq3MfA14FngMPB3wLvr1sbAA3TGoN6kU9HcNqhN6XS1vl0dhz+lM2M3k7g8c1lScXXoaklaMCYeScWZeCQVZ+KRVJyJR1JxJh5JxZl4JBVn4pFU3P8DMUh3LpZSJt8AAAAASUVORK5CYII=\n",
=======
      "image/png": "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\n",
>>>>>>> origin/master
      "text/plain": [
       "<Figure size 432x288 with 1 Axes>"
      ]
     },
     "metadata": {
      "needs_background": "light"
     },
     "output_type": "display_data"
    }
   ],
   "source": [
<<<<<<< HEAD
    "k = figure_creator('ring', (111,111))\n",
=======
    "k = figure_creator('disc', (111,111))\n",
>>>>>>> origin/master
    "imshow(k)\n",
    "unique, counts = np.unique(k, return_counts=True)\n",
    "dict(zip(unique, counts))"
   ]
  },
  {
   "cell_type": "code",
<<<<<<< HEAD
   "execution_count": null,
   "metadata": {},
   "outputs": [],
   "source": []
  },
  {
   "cell_type": "code",
   "execution_count": null,
   "metadata": {},
   "outputs": [],
   "source": []
=======
   "execution_count": 7,
   "metadata": {},
   "outputs": [],
   "source": [
    "def dilation_custom(img, selem):\n",
    "    row = img.shape[0] + 2 * selem.shape[0]\n",
    "    column = img.shape[1] + 2 * selem.shape[1]\n",
    "    big_img = np.zeros((row, column))\n",
    "    big_img[selem.shape[0]: row - selem.shape[0], selem.shape[1]:column - selem.shape[1]] = img\n",
    "    ret_img = np.zeros(big_img.shape)\n",
    "    mask = big_img == 1.\n",
    "    selem_mask = selem == 1.\n",
    "    y_range = selem.shape[0] // 2\n",
    "    x_range = selem.shape[1] // 2\n",
    "    for i in range(0, mask.shape[0]):\n",
    "        for j in range(0, mask.shape[1]):\n",
    "            if mask[i][j]:\n",
    "                ret_img[i - y_range: i + y_range + 1, j - x_range: j + x_range + 1][selem_mask] = 1.\n",
    "    return ret_img[selem.shape[0]:-selem.shape[0], selem.shape[1]:-selem.shape[1]]"
   ]
  },
  {
   "cell_type": "code",
   "execution_count": 8,
   "metadata": {},
   "outputs": [],
   "source": [
    "def erosion_custom(img, selem):\n",
    "    row = img.shape[0] + 2 * selem.shape[0]\n",
    "    column = img.shape[1] + 2 * selem.shape[1]\n",
    "    big_img = np.zeros((row, column))\n",
    "    big_img[selem.shape[0]: row - selem.shape[0], selem.shape[1]:column - selem.shape[1]] = img\n",
    "    ret_img = np.zeros(big_img.shape)\n",
    "    mask = big_img == 1.\n",
    "    selem_mask = selem == 1.\n",
    "    y_range = selem.shape[0] // 2\n",
    "    x_range = selem.shape[1] // 2\n",
    "    for i in range(0, mask.shape[0]):\n",
    "        for j in range(0, mask.shape[1]):\n",
    "            if mask[i][j] and np.all((mask[i - y_range:i + y_range + 1,j - x_range:j + x_range + 1] * selem_mask) == selem_mask):\n",
    "                ret_img[i][j] = 1.\n",
    "    return ret_img[selem.shape[0]:-selem.shape[0], selem.shape[1]:-selem.shape[1]]"
   ]
  },
  {
   "cell_type": "code",
   "execution_count": 9,
   "metadata": {},
   "outputs": [],
   "source": [
    "def show_couple(im1, im2):\n",
    "    plt.rcParams[\"figure.figsize\"] = (20,10)\n",
    "    f, ax = plt.subplots(1, 2)\n",
    "    ax[0].imshow(im1, cmap='gray')\n",
    "    ax[1].imshow(im2, cmap='gray')"
   ]
  },
  {
   "cell_type": "code",
   "execution_count": 10,
   "metadata": {},
   "outputs": [
    {
     "name": "stderr",
     "output_type": "stream",
     "text": [
      "/usr/lib/python3/dist-packages/skimage/util/dtype.py:107: UserWarning: Possible precision loss when converting from float64 to uint8\n",
      "  \"%s to %s\" % (dtypeobj_in, dtypeobj))\n"
     ]
    }
   ],
   "source": [
    "imd = dilation_custom(img, k)\n",
    "imd_1 = morphology.dilation(img, k)"
   ]
  },
  {
   "cell_type": "code",
   "execution_count": 11,
   "metadata": {},
   "outputs": [
    {
     "data": {
      "image/png": "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\n",
      "text/plain": [
       "<Figure size 1440x720 with 2 Axes>"
      ]
     },
     "metadata": {
      "needs_background": "light"
     },
     "output_type": "display_data"
    }
   ],
   "source": [
    "show_couple(imd, imd_1)"
   ]
  },
  {
   "cell_type": "code",
   "execution_count": 12,
   "metadata": {},
   "outputs": [],
   "source": [
    "ime = erosion_custom(img, k)\n",
    "ime_1 = morphology.erosion(img, k)"
   ]
  },
  {
   "cell_type": "code",
   "execution_count": 13,
   "metadata": {},
   "outputs": [
    {
     "data": {
      "image/png": "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\n",
      "text/plain": [
       "<Figure size 1440x720 with 2 Axes>"
      ]
     },
     "metadata": {
      "needs_background": "light"
     },
     "output_type": "display_data"
    }
   ],
   "source": [
    "show_couple(ime, ime_1)"
   ]
>>>>>>> origin/master
  }
 ],
 "metadata": {
  "kernelspec": {
   "display_name": "Python 3",
   "language": "python",
   "name": "python3"
  },
  "language_info": {
   "codemirror_mode": {
    "name": "ipython",
    "version": 3
   },
   "file_extension": ".py",
   "mimetype": "text/x-python",
   "name": "python",
   "nbconvert_exporter": "python",
   "pygments_lexer": "ipython3",
<<<<<<< HEAD
   "version": "3.7.4"
  }
 },
 "nbformat": 4,
 "nbformat_minor": 2
=======
   "version": "3.5.2"
  }
 },
 "nbformat": 4,
 "nbformat_minor": 4
>>>>>>> origin/master
}
