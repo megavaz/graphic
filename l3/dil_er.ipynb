{
 "cells": [
  {
   "cell_type": "code",
   "execution_count": 1,
   "metadata": {},
   "outputs": [],
   "source": [
    "import numpy as np\n",
    "from skimage.io import imread, imsave, imshow\n",
    "import skimage.color as color\n",
    "import skimage.morphology as morph\n",
    "import matplotlib.pyplot as plt\n",
    "from numpy import ogrid\n",
    "%matplotlib inline"
   ]
  },
  {
   "cell_type": "markdown",
   "metadata": {},
   "source": [
    "Чтение изображения"
   ]
  },
  {
   "cell_type": "code",
   "execution_count": 2,
   "metadata": {},
   "outputs": [
    {
     "data": {
      "text/plain": [
       "(603, 1000)"
      ]
     },
     "execution_count": 2,
     "metadata": {},
     "output_type": "execute_result"
    }
   ],
   "source": [
    "img = imread('sample.png')\n",
    "img = color.rgb2grey(img)\n",
    "img.shape"
   ]
  },
  {
   "cell_type": "markdown",
   "metadata": {},
   "source": [
    "Посмотрим на изображение"
   ]
  },
  {
   "cell_type": "code",
   "execution_count": 3,
   "metadata": {},
   "outputs": [
    {
     "data": {
      "text/plain": [
       "<matplotlib.image.AxesImage at 0x274be4e7f48>"
      ]
     },
     "execution_count": 3,
     "metadata": {},
     "output_type": "execute_result"
    },
    {
     "data": {
      "image/png": "[encoded data removed]",
      "text/plain": [
       "<Figure size 432x288 with 1 Axes>"
      ]
     },
     "metadata": {
      "needs_background": "light"
     },
     "output_type": "display_data"
    }
   ],
   "source": [
    "imshow(img)"
   ]
  },
  {
   "cell_type": "markdown",
   "metadata": {},
   "source": [
    "Определим функции для создания нужных нам фигур"
   ]
  },
  {
   "cell_type": "code",
   "execution_count": 4,
   "metadata": {},
   "outputs": [],
   "source": [
    "def disc_creator(shape, filled=True):\n",
    "    if shape[0] != shape[1] or shape[0] % 2 == 0:\n",
    "        print('Shape must be an odd square!')\n",
    "        return -1\n",
    "    fig = np.zeros(shape)\n",
    "    center = (shape[0] - 1) / 2\n",
    "    r = center\n",
    "    rows, cols = ogrid[:fig.shape[0], :fig.shape[1]]\n",
    "    if filled:\n",
    "        mask = (rows - center)**2 + (cols - center)**2 <= r*r\n",
    "        #print((rows-center)**2)\n",
    "    else:\n",
    "        mask = np.sqrt((rows - center)**2 + (cols - center)**2) <= r\n",
    "        mask_1 = r - shape[0] // 100 - 1 <= np.sqrt((rows - center)**2 + (cols - center)**2)\n",
    "        mask = mask * mask_1\n",
    "    fig[mask] = 1.\n",
    "    return fig\n",
    "    "
   ]
  },
  {
   "cell_type": "code",
   "execution_count": 5,
   "metadata": {},
   "outputs": [],
   "source": [
    "def figure_creator(fig_type, shape):\n",
    "    if fig_type == 'rectangle':\n",
    "        figure = np.full(shape, 1.)\n",
    "    elif fig_type == 'disc':\n",
    "        figure = disc_creator(shape)\n",
    "    elif fig_type == 'ring':\n",
    "        figure = disc_creator(shape, filled=False)\n",
    "    else:\n",
    "        print('Unsupported figure!')        \n",
    "    return figure"
   ]
  },
  {
   "cell_type": "code",
   "execution_count": 6,
   "metadata": {},
   "outputs": [
    {
     "data": {
      "text/plain": [
       "{0.0: 11641, 1.0: 680}"
      ]
     },
     "execution_count": 6,
     "metadata": {},
     "output_type": "execute_result"
    },
    {
     "data": {
      "image/png": "[encoded data removed]",
      "text/plain": [
       "<Figure size 432x288 with 1 Axes>"
      ]
     },
     "metadata": {
      "needs_background": "light"
     },
     "output_type": "display_data"
    }
   ],
   "source": [
    "k = figure_creator('ring', (111,111))\n",
    "imshow(k)\n",
    "unique, counts = np.unique(k, return_counts=True)\n",
    "dict(zip(unique, counts))"
   ]
  },
  {
   "cell_type": "code",
   "execution_count": null,
   "metadata": {},
   "outputs": [],
   "source": []
  },
  {
   "cell_type": "code",
   "execution_count": null,
   "metadata": {},
   "outputs": [],
   "source": []
  }
 ],
 "metadata": {
  "kernelspec": {
   "display_name": "Python 3",
   "language": "python",
   "name": "python3"
  },
  "language_info": {
   "codemirror_mode": {
    "name": "ipython",
    "version": 3
   },
   "file_extension": ".py",
   "mimetype": "text/x-python",
   "name": "python",
   "nbconvert_exporter": "python",
   "pygments_lexer": "ipython3",
   "version": "3.7.4"
  }
 },
 "nbformat": 4,
 "nbformat_minor": 2
}
