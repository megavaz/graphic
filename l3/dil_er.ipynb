{
 "cells": [
  {
   "cell_type": "markdown",
   "metadata": {},
   "source": [
    "# Создание Dilation и Erosion функций и сравнение их работы с готовыми из sci-kit image "
   ]
  },
  {
   "cell_type": "code",
   "execution_count": 1,
   "metadata": {},
   "outputs": [],
   "source": [
    "import numpy as np\n",
    "from skimage.io import imread, imshow\n",
    "import skimage.color as color\n",
    "import skimage.morphology as morphology\n",
    "import matplotlib.pyplot as plt\n",
    "from numpy import ogrid\n",
    "%matplotlib inline"
   ]
  },
  {
   "cell_type": "markdown",
   "metadata": {},
   "source": [
    "Чтение изображения"
   ]
  },
  {
   "cell_type": "code",
   "execution_count": 2,
   "metadata": {},
   "outputs": [],
   "source": [
    "img = imread('sample.png')\n",
    "img = color.rgb2grey(img)"
   ]
  },
  {
   "cell_type": "markdown",
   "metadata": {},
   "source": [
    "Посмотрим на изображение"
   ]
  },
  {
   "cell_type": "code",
   "execution_count": 3,
   "metadata": {},
   "outputs": [
    {
     "data": {
      "text/plain": [
       "(603, 1000)"
      ]
     },
     "execution_count": 3,
     "metadata": {},
     "output_type": "execute_result"
    },
    {
     "data": {
      "image/png": "[encoded data removed]",
      "text/plain": [
       "<Figure size 432x288 with 1 Axes>"
      ]
     },
     "metadata": {
      "needs_background": "light"
     },
     "output_type": "display_data"
    }
   ],
   "source": [
    "imshow(img)\n",
    "img.shape"
   ]
  },
  {
   "cell_type": "markdown",
   "metadata": {},
   "source": [
    "Определим функции для создания нужных нам фигур"
   ]
  },
  {
   "cell_type": "code",
   "execution_count": 4,
   "metadata": {},
   "outputs": [],
   "source": [
    "def disc_creator(shape, filled=True):\n",
    "    if shape[0] != shape[1]:\n",
    "        print('Shape must be an odd square!')\n",
    "        raise Exception('Shape must be square!')\n",
    "    fig = np.zeros(shape)\n",
    "    center = (shape[0] - 1) / 2\n",
    "    r = center\n",
    "    rows, cols = ogrid[:fig.shape[0], :fig.shape[1]]\n",
    "    if filled:\n",
    "        mask = np.sqrt((rows - center)**2 + (cols - center)**2) <= r\n",
    "    else:\n",
    "        mask = np.sqrt((rows - center)**2 + (cols - center)**2) <= r\n",
    "        mask_1 = r - shape[0] // 100 - 1 <= np.sqrt((rows - center)**2 + (cols - center)**2)\n",
    "        mask = mask * mask_1\n",
    "    fig[mask] = 1.\n",
    "    return fig\n",
    "    "
   ]
  },
  {
   "cell_type": "markdown",
   "metadata": {},
   "source": [
    "Функция для обрезания изображения по его границам, для получения более точных результатов"
   ]
  },
  {
   "cell_type": "code",
   "execution_count": 5,
   "metadata": {},
   "outputs": [],
   "source": [
    "def figure_cutter(figure):    \n",
    "    shape = figure.shape\n",
    "    coordinates = [[shape[0], 0], [0,0], [0, shape[1]], [0,0]]  #[[top], [bottom], [left], [right]]\n",
    "    #print(coordinates[2][1])\n",
    "    mask = figure == 1.\n",
    "    for i in range(0, shape[0]):\n",
    "        for j in range(0, shape[1]):\n",
    "            if mask[i][j]:\n",
    "                if coordinates[0][0] >= i:\n",
    "                    coordinates[0] = [i,j]\n",
    "                if coordinates[1][0] <= i:\n",
    "                    coordinates[1] = [i,j]\n",
    "                if coordinates[2][1] >= j:\n",
    "                    coordinates[2] = [i,j]\n",
    "                if coordinates[3][1] <= j:\n",
    "                    coordinates[3] = [i,j]\n",
    "    return figure[coordinates[0][0]:coordinates[1][0], coordinates[2][1]:coordinates[3][1]]"
   ]
  },
  {
   "cell_type": "code",
   "execution_count": 6,
   "metadata": {},
   "outputs": [],
   "source": [
    "def figure_creator(fig_type, shape=(1,1), source=None):\n",
    "    if shape[0] % 2 == 0 or shape[1] % 2 == 0:\n",
    "        print('Shape must be odd by any dimension!')\n",
    "        raise Exception('Shape is not odd!')\n",
    "    if fig_type == 'rectangle':\n",
    "        figure = np.full(shape, 1.)\n",
    "    elif fig_type == 'disc':\n",
    "        figure = disc_creator(shape)\n",
    "    elif fig_type == 'ring':\n",
    "        figure = disc_creator(shape, filled=False)\n",
    "    elif fig_type == 'custom':\n",
    "        figure_temp = imread(source)\n",
    "        figure_temp = color.rgb2grey(figure_temp)\n",
    "        figure_temp = figure_cutter(figure_temp)\n",
    "        if figure_temp.shape[0] % 2 == 0:\n",
    "            figure_temp = figure_temp[0:figure_temp.shape[0] - 1, :]\n",
    "        if figure_temp.shape[1] % 2 == 0:\n",
    "            figure_temp = figure_temp[:, 0:figure_temp.shape[1] - 1]\n",
    "        figure = figure_temp\n",
    "    else:\n",
    "        raise Exception('Unsupported figure!')\n",
    "    return figure"
   ]
  },
  {
   "cell_type": "markdown",
   "metadata": {},
   "source": [
    "Создадим фигуру из набора или импортируем из файла"
   ]
  },
  {
   "cell_type": "code",
   "execution_count": 7,
   "metadata": {},
   "outputs": [
    {
     "data": {
      "text/plain": [
       "<matplotlib.image.AxesImage at 0x25adab110c8>"
      ]
     },
     "execution_count": 7,
     "metadata": {},
     "output_type": "execute_result"
    },
    {
     "data": {
      "image/png": "[encoded data removed]",
      "text/plain": [
       "<Figure size 432x288 with 1 Axes>"
      ]
     },
     "metadata": {
      "needs_background": "light"
     },
     "output_type": "display_data"
    }
   ],
   "source": [
    "k = figure_creator('custom', source='object.png')\n",
    "imshow(k)\n",
    "#unique, counts = np.unique(k, return_counts=True)\n",
    "#dict(zip(unique, counts))"
   ]
  },
  {
   "cell_type": "code",
   "execution_count": 8,
   "metadata": {},
   "outputs": [],
   "source": [
    "def dilation_custom(img, selem):\n",
    "    selem = np.flip(selem)\n",
    "    row = img.shape[0] + 2 * selem.shape[0]\n",
    "    column = img.shape[1] + 2 * selem.shape[1]\n",
    "    big_img = np.zeros((row, column))\n",
    "    big_img[selem.shape[0]: row - selem.shape[0], selem.shape[1]:column - selem.shape[1]] = img\n",
    "    ret_img = np.zeros(big_img.shape)\n",
    "    mask = big_img == 1.\n",
    "    selem_mask = selem == 1.\n",
    "    y_range = selem.shape[0] // 2\n",
    "    x_range = selem.shape[1] // 2\n",
    "    for i in range(0, row):\n",
    "        for j in range(0, column):\n",
    "            if mask[i][j]:\n",
    "                ret_img[i - y_range: i + y_range + 1, j - x_range: j + x_range + 1][selem_mask] = 1.\n",
    "    return ret_img[selem.shape[0]:-selem.shape[0], selem.shape[1]:-selem.shape[1]]"
   ]
  },
  {
   "cell_type": "code",
   "execution_count": 9,
   "metadata": {},
   "outputs": [],
   "source": [
    "def erosion_custom(img, selem):\n",
    "    row = img.shape[0] + 2 * selem.shape[0]\n",
    "    column = img.shape[1] + 2 * selem.shape[1]\n",
    "    big_img = np.zeros((row, column))\n",
    "    big_img[selem.shape[0]: row - selem.shape[0], selem.shape[1]:column - selem.shape[1]] = img\n",
    "    ret_img = np.zeros(big_img.shape)\n",
    "    mask = big_img == 1.\n",
    "    selem_mask = selem == 1.\n",
    "    y_range = selem.shape[0] // 2\n",
    "    x_range = selem.shape[1] // 2\n",
    "    for i in range(0, mask.shape[0]):\n",
    "        for j in range(0, mask.shape[1]):\n",
    "            if mask[i][j] and np.all((mask[i - y_range:i + y_range + 1,j - x_range:j + x_range + 1] * selem_mask) == selem_mask):\n",
    "                ret_img[i][j] = 1.\n",
    "    return ret_img[selem.shape[0]:-selem.shape[0], selem.shape[1]:-selem.shape[1]]"
   ]
  },
  {
   "cell_type": "markdown",
   "metadata": {},
   "source": [
    "Функция для показа двух изображений рядом"
   ]
  },
  {
   "cell_type": "code",
   "execution_count": 10,
   "metadata": {},
   "outputs": [],
   "source": [
    "def show_couple(im1, im2):\n",
    "    plt.rcParams[\"figure.figsize\"] = (20,10)\n",
    "    f, ax = plt.subplots(1, 2)\n",
    "    ax[0].imshow(im1, cmap='gray')\n",
    "    ax[1].imshow(im2, cmap='gray')"
   ]
  },
  {
   "cell_type": "markdown",
   "metadata": {},
   "source": [
    "Сравним работу сделанной мной функции и функции из skimage для dilation"
   ]
  },
  {
   "cell_type": "code",
   "execution_count": 11,
   "metadata": {},
   "outputs": [],
   "source": [
    "imd = dilation_custom(img, k)\n",
    "imd_1 = morphology.dilation(img, k)"
   ]
  },
  {
   "cell_type": "code",
   "execution_count": 12,
   "metadata": {},
   "outputs": [
    {
     "data": {
      "text/plain": [
       "True"
      ]
     },
     "execution_count": 12,
     "metadata": {},
     "output_type": "execute_result"
    },
    {
     "data": {
      "image/png": "[encoded data removed]",
      "text/plain": [
       "<Figure size 1440x720 with 2 Axes>"
      ]
     },
     "metadata": {
      "needs_background": "light"
     },
     "output_type": "display_data"
    }
   ],
   "source": [
    "show_couple(imd, imd_1)\n",
    "np.all(imd == imd_1)"
   ]
  },
  {
   "cell_type": "markdown",
   "metadata": {},
   "source": [
    "Сравним работу сделанной мной функции и функции из skimage для erosion"
   ]
  },
  {
   "cell_type": "code",
   "execution_count": 13,
   "metadata": {},
   "outputs": [],
   "source": [
    "ime = erosion_custom(img, k)\n",
    "ime_1 = morphology.erosion(img, k)"
   ]
  },
  {
   "cell_type": "code",
   "execution_count": 14,
   "metadata": {},
   "outputs": [
    {
     "data": {
      "text/plain": [
       "True"
      ]
     },
     "execution_count": 14,
     "metadata": {},
     "output_type": "execute_result"
    },
    {
     "data": {
      "image/png": "[encoded data removed]",
      "text/plain": [
       "<Figure size 1440x720 with 2 Axes>"
      ]
     },
     "metadata": {
      "needs_background": "light"
     },
     "output_type": "display_data"
    }
   ],
   "source": [
    "show_couple(ime, ime_1)\n",
    "np.all(ime == ime_1)"
   ]
  }
 ],
 "metadata": {
  "kernelspec": {
   "display_name": "Python 3",
   "language": "python",
   "name": "python3"
  },
  "language_info": {
   "codemirror_mode": {
    "name": "ipython",
    "version": 3
   },
   "file_extension": ".py",
   "mimetype": "text/x-python",
   "name": "python",
   "nbconvert_exporter": "python",
   "pygments_lexer": "ipython3",
   "version": "3.7.5"
  }
 },
 "nbformat": 4,
 "nbformat_minor": 4
}
